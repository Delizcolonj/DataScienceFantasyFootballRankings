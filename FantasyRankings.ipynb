{
 "cells": [
  {
   "cell_type": "code",
   "execution_count": 291,
   "metadata": {},
   "outputs": [],
   "source": [
    "import numpy as np \n",
    "import pandas as pd\n",
    "from sklearn.model_selection import train_test_split \n",
    "from sklearn.linear_model import LinearRegression\n",
    "from sklearn.metrics import r2_score\n",
    "from sklearn.metrics import accuracy_score\n",
    "from matplotlib import pyplot as plt"
   ]
  },
  {
   "cell_type": "code",
   "execution_count": 223,
   "metadata": {},
   "outputs": [],
   "source": [
    "dst = pd.read_csv('defense_stats_and_projections.csv')\n",
    "qbs = pd.read_csv('qb_stats_and_projections.csv')\n",
    "wrs = pd.read_csv('wr_stats_and_projections.csv')\n",
    "rbs = pd.read_csv('rb_stats_and_projections.csv')\n",
    "te = pd.read_csv('te_stats_and_projections.csv')\n",
    "ks = pd.read_csv('kicker_stats_and_projections.csv')\n"
   ]
  },
  {
   "cell_type": "code",
   "execution_count": 272,
   "metadata": {},
   "outputs": [],
   "source": [
    "pd.set_option(\"display.max_rows\", None, \"display.max_columns\", None)\n",
    "wrs = wrs.rename(columns={\"POSITION\": \"PLAYER POSITION\"})\n",
    "temp_dst = dst.rename(columns={\"TEAM NAME\": \"PLAYER NAME\"})\n",
    "temp_dst['PLAYER POSITION'] = 'DST'\n",
    "# NFL_df = pd.concat([qbs, wrs, rbs, te, temp_dst, ks], sort = True)\n",
    "# print(NFL_df.columns)\n",
    "# print(qbs.columns)\n",
    "# print(temp_dst.columns)\n",
    "# print(wrs.columns)\n",
    "# print(rbs.columns)"
   ]
  },
  {
   "cell_type": "code",
   "execution_count": 225,
   "metadata": {},
   "outputs": [],
   "source": [
    "def clean_dataset(df):\n",
    "    return df.replace(np.nan, 0.0, inplace=True) # Turns all nan values to 0.0"
   ]
  },
  {
   "cell_type": "code",
   "execution_count": 271,
   "metadata": {},
   "outputs": [],
   "source": [
    "clean_dataset(wrs)\n",
    "clean_dataset(qbs)\n",
    "clean_dataset(NFL_df) # clean the dataset replacce nan with 0.0 "
   ]
  },
  {
   "cell_type": "code",
   "execution_count": 229,
   "metadata": {},
   "outputs": [],
   "source": []
  },
  {
   "cell_type": "code",
   "execution_count": 275,
   "metadata": {},
   "outputs": [],
   "source": [
    "NFL_df = pd.concat([qbs, wrs, rbs, te], sort = True)"
   ]
  },
  {
   "cell_type": "code",
   "execution_count": 276,
   "metadata": {},
   "outputs": [
    {
     "data": {
      "text/plain": [
       "Index(['2020 ATTEMPTED PASS', '2020 AVG REC YARDS', '2020 AVG REC YDS',\n",
       "       '2020 CAR', '2020 COMPLETED PASS', '2020 FPTS', '2020 INT',\n",
       "       '2020 OUTLOOK', '2020 PASSING TD', '2020 PASSING YDS',\n",
       "       '2020 PLAYER OUTLOOK', '2020 REC', '2020 REC TD', '2020 REC TDS',\n",
       "       '2020 REC YARDS', '2020 REC YDS', '2020 RUSH AVG', '2020 RUSH CAR',\n",
       "       '2020 RUSH TD', '2020 RUSH TDS', '2020 RUSH YARDS', '2020 RUSH YDS',\n",
       "       '2020 TAR', 'PLAYER NAME', 'PLAYER POSITION', 'POINTS',\n",
       "       'Player OUTLOOK', 'TEAM', 'TEAM NAME', 'USAGE', 'Unnamed: 0'],\n",
       "      dtype='object')"
      ]
     },
     "execution_count": 276,
     "metadata": {},
     "output_type": "execute_result"
    }
   ],
   "source": [
    "NFL_df = NFL_df.drop(['2019 ATTEMPTED PASS', '2019 AVG REC YARDS', '2019 AVG REC YDS',\n",
    "       '2019 CAR', '2019 COMPLETED PASS', '2019 FPTS', '2019 INT',\n",
    "       '2019 PASSING TD', '2019 PASSING YDS', '2019 REC', '2019 REC TD',\n",
    "       '2019 REC TDS', '2019 REC YARDS', '2019 REC YDS', '2019 RUSH AVG',\n",
    "       '2019 RUSH CAR', '2019 RUSH TD', '2019 RUSH TDS', '2019 RUSH YARDS',\n",
    "       '2019 RUSH YDS', '2019 TAR'], axis=1)\n",
    "NFL_df.columns"
   ]
  },
  {
   "cell_type": "code",
   "execution_count": 283,
   "metadata": {},
   "outputs": [],
   "source": [
    "# FPTS_df = NFL_df[['PLAYER NAME', 'PLAYER POSITION','2019 FPTS', '2020 FPTS', ]]\n",
    "# FPTS_df\n",
    "\n",
    "wrs['POINTS'] = (wrs['2020 REC YARDS']*0.1 + wrs['2020 REC TDS']*6+ wrs['2020 RUSH YARDS']*0.1 + wrs['2020 RUSH TDS']*6) #- rb_df['FL']*2)\n",
    "wrs['USAGE'] = (wrs['2020 TAR'] + wrs['2020 RUSH CAR'])\n",
    "\n",
    "qbs['POINTS'] = (qbs['2020 PASSING YDS']*0.04 + qbs['2020 PASSING TD']*6 + qbs['2020 RUSH TD']*6+ qbs['2020 RUSH YDS']*0.1 - qbs['2020 INT']*2)\n",
    "qbs['USAGE'] = (qbs['2020 ATTEMPTED PASS'] + qbs['2020 CAR'])\n",
    "\n",
    "NFL_df['POINTS'] = (NFL_df['2020 REC YARDS']*0.1 + NFL_df['2020 REC TDS']*6 + NFL_df['2020 RUSH YDS']*0.1 + NFL_df['2020 REC TDS']*6 + NFL_df['2020 RUSH TD']*6 + NFL_df['2020 PASSING YDS']*0.04 + NFL_df['2020 PASSING TD']*6- NFL_df['2020 INT']*2)\n",
    "NFL_df['USAGE'] = (NFL_df['2020 TAR'] + NFL_df['2020 RUSH CAR'] + NFL_df['2020 ATTEMPTED PASS'] + NFL_df['2020 CAR'])\n"
   ]
  },
  {
   "cell_type": "code",
   "execution_count": 231,
   "metadata": {},
   "outputs": [],
   "source": [
    "qbs_start = qbs[qbs.USAGE >= 200.0]  #We care about only the starting quarter backs who have value"
   ]
  },
  {
   "cell_type": "code",
   "execution_count": 232,
   "metadata": {},
   "outputs": [
    {
     "name": "stdout",
     "output_type": "stream",
     "text": [
      "294.64\n"
     ]
    }
   ],
   "source": [
    "qb_avg = qbs_start['POINTS'].mean()\n",
    "print(qb_avg)"
   ]
  },
  {
   "cell_type": "code",
   "execution_count": 233,
   "metadata": {},
   "outputs": [],
   "source": [
    "def rmse(actual, predicted):\n",
    "    \"\"\"Calculates RMSE from actual and predicted values\"\"\"\n",
    "    return np.sqrt(np.mean((actual-predicted)**2))"
   ]
  },
  {
   "cell_type": "code",
   "execution_count": 234,
   "metadata": {},
   "outputs": [],
   "source": [
    "x1 = qbs['USAGE'].values.reshape(-1,1)\n",
    "y1 = qbs['POINTS'].values.reshape(-1,1)\n",
    "x1_train, x1_test, y1_train, y1_test = train_test_split(x1, y1, test_size=0.2, random_state=0)\n",
    "regressor = LinearRegression()  \n",
    "regressor.fit(x1_train, y1_train)\n",
    "y1_pred = regressor.predict(x1_test)"
   ]
  },
  {
   "cell_type": "code",
   "execution_count": null,
   "metadata": {},
   "outputs": [],
   "source": []
  },
  {
   "cell_type": "code",
   "execution_count": 235,
   "metadata": {},
   "outputs": [
    {
     "data": {
      "image/png": "[encoded data removed]",
      "text/plain": [
       "<Figure size 432x288 with 1 Axes>"
      ]
     },
     "metadata": {
      "needs_background": "light"
     },
     "output_type": "display_data"
    }
   ],
   "source": [
    "plt.scatter(x1_test, y1_test,  color='gray')\n",
    "plt.plot(x1_test, y1_pred, color='red', linewidth=2)\n",
    "plt.xlabel('Usage')\n",
    "plt.ylabel('Total FantasyPoints')\n",
    "plt.show()"
   ]
  },
  {
   "cell_type": "code",
   "execution_count": 236,
   "metadata": {},
   "outputs": [
    {
     "data": {
      "text/plain": [
       "16.07464543035994"
      ]
     },
     "execution_count": 236,
     "metadata": {},
     "output_type": "execute_result"
    }
   ],
   "source": [
    "rmse(y1_test, y1_pred) # Standard error of points per QB and usage"
   ]
  },
  {
   "cell_type": "code",
   "execution_count": 237,
   "metadata": {},
   "outputs": [],
   "source": [
    "x = wrs['USAGE'].values.reshape(-1, 1)\n",
    "y = wrs['POINTS'].values.reshape(-1, 1)\n",
    "x_train, x_test, y_train, y_test = train_test_split(x, y, test_size=0.2, random_state=0)\n",
    "regressor = LinearRegression()  \n",
    "regressor.fit(x_train, y_train) #training the algorithm\n",
    "y_pred = regressor.predict(x_test)"
   ]
  },
  {
   "cell_type": "code",
   "execution_count": 238,
   "metadata": {},
   "outputs": [
    {
     "data": {
      "image/png": "[encoded data removed]",
      "text/plain": [
       "<Figure size 432x288 with 1 Axes>"
      ]
     },
     "metadata": {
      "needs_background": "light"
     },
     "output_type": "display_data"
    }
   ],
   "source": [
    "plt.scatter(x_test, y_test,  color='gray')\n",
    "plt.plot(x_test, y_pred, color='red', linewidth=2)\n",
    "plt.xlabel('Usage')\n",
    "plt.ylabel('Total FantasyPoints')\n",
    "plt.show()"
   ]
  },
  {
   "cell_type": "code",
   "execution_count": null,
   "metadata": {},
   "outputs": [],
   "source": []
  },
  {
   "cell_type": "code",
   "execution_count": 239,
   "metadata": {},
   "outputs": [
    {
     "data": {
      "text/plain": [
       "5.7732321650908025"
      ]
     },
     "execution_count": 239,
     "metadata": {},
     "output_type": "execute_result"
    }
   ],
   "source": [
    "rmse(y_test,y_pred) #Error of our Prediction most WR perform regularly under usage"
   ]
  },
  {
   "cell_type": "code",
   "execution_count": 298,
   "metadata": {},
   "outputs": [
    {
     "name": "stdout",
     "output_type": "stream",
     "text": [
      "coeffecient of determination: 0.9847091096554346\n",
      "coeffecient of determination: 0.986955247513537\n"
     ]
    }
   ],
   "source": [
    "r2_wr = r2_score(y_test, y_pred)\n",
    "r2_qb = r2_score(y1_test, y1_pred)\n",
    "print(\"coeffecient of determination:\" , r2_wr) # Strong correlation between WR usage and WR fantasy points\n",
    "print(\"coeffecient of determination:\" , r2_qb)"
   ]
  },
  {
   "cell_type": "code",
   "execution_count": 292,
   "metadata": {},
   "outputs": [],
   "source": [
    "rank_wr = wrs.sort_values(['USAGE'], ascending=[False]) #Since there is a strong correlation between \n",
    "# rank_wr.head(10)\n",
    "rank_qb = qbs.sort_values(['USAGE'], ascending= [False]) \n",
    "# rank_qb.head(10)"
   ]
  },
  {
   "cell_type": "code",
   "execution_count": 306,
   "metadata": {},
   "outputs": [],
   "source": [
    "clean_dataset(NFL_df)\n",
    "x2 = NFL_df['USAGE'].values.reshape(-1,1)\n",
    "y2 = NFL_df['POINTS'].values.reshape(-1,1)\n",
    "x2_train, x2_test, y2_train, y2_test = train_test_split(x2, y2, test_size=0.2, random_state=0)\n",
    "regressor = LinearRegression()  \n",
    "regressor.fit(x2_train, y2_train)\n",
    "y2_pred = regressor.predict(x2_test)"
   ]
  },
  {
   "cell_type": "code",
   "execution_count": 307,
   "metadata": {},
   "outputs": [
    {
     "data": {
      "image/png": "[encoded data removed]",
      "text/plain": [
       "<Figure size 432x288 with 1 Axes>"
      ]
     },
     "metadata": {
      "needs_background": "light"
     },
     "output_type": "display_data"
    }
   ],
   "source": [
    "plt.scatter(x2_test, y2_test,  color='green')\n",
    "plt.plot(x2_test, y2_pred, color='blue', linewidth=2)\n",
    "plt.xlabel('Usage')\n",
    "plt.ylabel('Total FantasyPoints')\n",
    "plt.show()"
   ]
  },
  {
   "cell_type": "code",
   "execution_count": 293,
   "metadata": {},
   "outputs": [],
   "source": [
    "rank_LEAGUE = NFL_df.sort_values(['USAGE'], ascending= [False])\n",
    "# rank_LEAGUE.head(100)"
   ]
  },
  {
   "cell_type": "code",
   "execution_count": 308,
   "metadata": {},
   "outputs": [
    {
     "name": "stdout",
     "output_type": "stream",
     "text": [
      "coeffecient of determination: 0.7906181930234907\n",
      "Error in points: 29.486804515059248\n"
     ]
    },
    {
     "ename": "ValueError",
     "evalue": "Found input variables with inconsistent numbers of samples: [920, 184]",
     "output_type": "error",
     "traceback": [
      "\u001b[0;31m---------------------------------------------------------------------------\u001b[0m",
      "\u001b[0;31mValueError\u001b[0m                                Traceback (most recent call last)",
      "\u001b[0;32m<ipython-input-308-1be27a1d247f>\u001b[0m in \u001b[0;36m<module>\u001b[0;34m\u001b[0m\n\u001b[1;32m      2\u001b[0m \u001b[0mprint\u001b[0m\u001b[0;34m(\u001b[0m\u001b[0;34m\"coeffecient of determination:\"\u001b[0m \u001b[0;34m,\u001b[0m \u001b[0mLEAGUE\u001b[0m\u001b[0;34m)\u001b[0m \u001b[0;31m# Correlation is not that strong so its unwise to use this but instead use separate rankings\u001b[0m\u001b[0;34m\u001b[0m\u001b[0;34m\u001b[0m\u001b[0m\n\u001b[1;32m      3\u001b[0m \u001b[0mprint\u001b[0m\u001b[0;34m(\u001b[0m\u001b[0;34m\"Error in points:\"\u001b[0m\u001b[0;34m,\u001b[0m \u001b[0mrmse\u001b[0m\u001b[0;34m(\u001b[0m\u001b[0my2_test\u001b[0m\u001b[0;34m,\u001b[0m \u001b[0my2_pred\u001b[0m\u001b[0;34m)\u001b[0m\u001b[0;34m)\u001b[0m\u001b[0;34m\u001b[0m\u001b[0;34m\u001b[0m\u001b[0m\n\u001b[0;32m----> 4\u001b[0;31m \u001b[0maccuracy\u001b[0m \u001b[0;34m=\u001b[0m \u001b[0maccuracy_score\u001b[0m\u001b[0;34m(\u001b[0m\u001b[0my2\u001b[0m\u001b[0;34m,\u001b[0m \u001b[0my2_pred\u001b[0m\u001b[0;34m)\u001b[0m\u001b[0;34m\u001b[0m\u001b[0;34m\u001b[0m\u001b[0m\n\u001b[0m\u001b[1;32m      5\u001b[0m \u001b[0mprint\u001b[0m\u001b[0;34m(\u001b[0m\u001b[0maccuracy\u001b[0m\u001b[0;34m)\u001b[0m\u001b[0;34m\u001b[0m\u001b[0;34m\u001b[0m\u001b[0m\n",
      "\u001b[0;32m/opt/conda/lib/python3.6/site-packages/sklearn/metrics/_classification.py\u001b[0m in \u001b[0;36maccuracy_score\u001b[0;34m(y_true, y_pred, normalize, sample_weight)\u001b[0m\n\u001b[1;32m    183\u001b[0m \u001b[0;34m\u001b[0m\u001b[0m\n\u001b[1;32m    184\u001b[0m     \u001b[0;31m# Compute accuracy for each possible representation\u001b[0m\u001b[0;34m\u001b[0m\u001b[0;34m\u001b[0m\u001b[0;34m\u001b[0m\u001b[0m\n\u001b[0;32m--> 185\u001b[0;31m     \u001b[0my_type\u001b[0m\u001b[0;34m,\u001b[0m \u001b[0my_true\u001b[0m\u001b[0;34m,\u001b[0m \u001b[0my_pred\u001b[0m \u001b[0;34m=\u001b[0m \u001b[0m_check_targets\u001b[0m\u001b[0;34m(\u001b[0m\u001b[0my_true\u001b[0m\u001b[0;34m,\u001b[0m \u001b[0my_pred\u001b[0m\u001b[0;34m)\u001b[0m\u001b[0;34m\u001b[0m\u001b[0;34m\u001b[0m\u001b[0m\n\u001b[0m\u001b[1;32m    186\u001b[0m     \u001b[0mcheck_consistent_length\u001b[0m\u001b[0;34m(\u001b[0m\u001b[0my_true\u001b[0m\u001b[0;34m,\u001b[0m \u001b[0my_pred\u001b[0m\u001b[0;34m,\u001b[0m \u001b[0msample_weight\u001b[0m\u001b[0;34m)\u001b[0m\u001b[0;34m\u001b[0m\u001b[0;34m\u001b[0m\u001b[0m\n\u001b[1;32m    187\u001b[0m     \u001b[0;32mif\u001b[0m \u001b[0my_type\u001b[0m\u001b[0;34m.\u001b[0m\u001b[0mstartswith\u001b[0m\u001b[0;34m(\u001b[0m\u001b[0;34m'multilabel'\u001b[0m\u001b[0;34m)\u001b[0m\u001b[0;34m:\u001b[0m\u001b[0;34m\u001b[0m\u001b[0;34m\u001b[0m\u001b[0m\n",
      "\u001b[0;32m/opt/conda/lib/python3.6/site-packages/sklearn/metrics/_classification.py\u001b[0m in \u001b[0;36m_check_targets\u001b[0;34m(y_true, y_pred)\u001b[0m\n\u001b[1;32m     78\u001b[0m     \u001b[0my_pred\u001b[0m \u001b[0;34m:\u001b[0m \u001b[0marray\u001b[0m \u001b[0;32mor\u001b[0m \u001b[0mindicator\u001b[0m \u001b[0mmatrix\u001b[0m\u001b[0;34m\u001b[0m\u001b[0;34m\u001b[0m\u001b[0m\n\u001b[1;32m     79\u001b[0m     \"\"\"\n\u001b[0;32m---> 80\u001b[0;31m     \u001b[0mcheck_consistent_length\u001b[0m\u001b[0;34m(\u001b[0m\u001b[0my_true\u001b[0m\u001b[0;34m,\u001b[0m \u001b[0my_pred\u001b[0m\u001b[0;34m)\u001b[0m\u001b[0;34m\u001b[0m\u001b[0;34m\u001b[0m\u001b[0m\n\u001b[0m\u001b[1;32m     81\u001b[0m     \u001b[0mtype_true\u001b[0m \u001b[0;34m=\u001b[0m \u001b[0mtype_of_target\u001b[0m\u001b[0;34m(\u001b[0m\u001b[0my_true\u001b[0m\u001b[0;34m)\u001b[0m\u001b[0;34m\u001b[0m\u001b[0;34m\u001b[0m\u001b[0m\n\u001b[1;32m     82\u001b[0m     \u001b[0mtype_pred\u001b[0m \u001b[0;34m=\u001b[0m \u001b[0mtype_of_target\u001b[0m\u001b[0;34m(\u001b[0m\u001b[0my_pred\u001b[0m\u001b[0;34m)\u001b[0m\u001b[0;34m\u001b[0m\u001b[0;34m\u001b[0m\u001b[0m\n",
      "\u001b[0;32m/opt/conda/lib/python3.6/site-packages/sklearn/utils/validation.py\u001b[0m in \u001b[0;36mcheck_consistent_length\u001b[0;34m(*arrays)\u001b[0m\n\u001b[1;32m    210\u001b[0m     \u001b[0;32mif\u001b[0m \u001b[0mlen\u001b[0m\u001b[0;34m(\u001b[0m\u001b[0muniques\u001b[0m\u001b[0;34m)\u001b[0m \u001b[0;34m>\u001b[0m \u001b[0;36m1\u001b[0m\u001b[0;34m:\u001b[0m\u001b[0;34m\u001b[0m\u001b[0;34m\u001b[0m\u001b[0m\n\u001b[1;32m    211\u001b[0m         raise ValueError(\"Found input variables with inconsistent numbers of\"\n\u001b[0;32m--> 212\u001b[0;31m                          \" samples: %r\" % [int(l) for l in lengths])\n\u001b[0m\u001b[1;32m    213\u001b[0m \u001b[0;34m\u001b[0m\u001b[0m\n\u001b[1;32m    214\u001b[0m \u001b[0;34m\u001b[0m\u001b[0m\n",
      "\u001b[0;31mValueError\u001b[0m: Found input variables with inconsistent numbers of samples: [920, 184]"
     ]
    }
   ],
   "source": [
    "LEAGUE = r2_score(y2_test, y2_pred)\n",
    "print(\"coeffecient of determination:\" , LEAGUE) # Correlation is not that strong so its unwise to use this but instead use separate rankings\n",
    "print(\"Error in points:\", rmse(y2_test, y2_pred))\n",
    "# accuracy = accuracy_score(y2, y2_pred)\n",
    "# print(accuracy)"
   ]
  },
  {
   "cell_type": "code",
   "execution_count": null,
   "metadata": {},
   "outputs": [],
   "source": []
  }
 ],
 "metadata": {
  "kernelspec": {
   "display_name": "Python 3",
   "language": "python",
   "name": "python3"
  },
  "language_info": {
   "codemirror_mode": {
    "name": "ipython",
    "version": 3
   },
   "file_extension": ".py",
   "mimetype": "text/x-python",
   "name": "python",
   "nbconvert_exporter": "python",
   "pygments_lexer": "ipython3",
   "version": "3.6.10"
  }
 },
 "nbformat": 4,
 "nbformat_minor": 2
}
